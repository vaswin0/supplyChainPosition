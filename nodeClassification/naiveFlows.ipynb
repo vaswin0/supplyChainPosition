{
 "cells": [
  {
   "cell_type": "code",
   "execution_count": 43,
   "id": "1878d05f-3eea-42b8-a363-9a4fca1a88ef",
   "metadata": {},
   "outputs": [],
   "source": [
    "import networkx as nx\n",
    "import random\n",
    "import pandas as pd\n",
    "import random\n",
    "import numpy as np\n"
   ]
  },
  {
   "cell_type": "code",
   "execution_count": 85,
   "id": "5f0bc6c7-8731-43e6-962f-0940f882e076",
   "metadata": {},
   "outputs": [],
   "source": [
    "\n",
    "\n",
    "def create_labeled_directed_graph(n, m):\n",
    "    # Initialize a directed graph\n",
    "    G = nx.DiGraph()\n",
    "    \n",
    "    # Add nodes with random labels from {1, ..., m}\n",
    "    for i in range(n):\n",
    "        label = random.randint(1, m)\n",
    "        G.add_node(i, label=label)\n",
    "    \n",
    "    # Ensure each node has at least one incoming and one outgoing edge\n",
    "    # Connect nodes in a way that guarantees each node has an in-degree and out-degree of at least 1\n",
    "    for i in range(n):\n",
    "        # Ensure at least one outgoing edge for node i\n",
    "        if G.out_degree(i) == 0:\n",
    "            target = random.choice([j for j in range(n) if j != i])\n",
    "            G.add_edge(i, target)\n",
    "        \n",
    "        # Ensure at least one incoming edge for node i\n",
    "        if G.in_degree(i) == 0:\n",
    "            source = random.choice([j for j in range(n) if j != i])\n",
    "            G.add_edge(source, i)\n",
    "\n",
    "    # Add additional random edges to satisfy further connectivity requirements\n",
    "    while any(G.in_degree(i) < 2 or G.out_degree(i) < 2 for i in range(n)):\n",
    "        source, target = random.sample(range(n), 2)\n",
    "        G.add_edge(source, target)\n",
    "\n",
    "    return G\n",
    "\n",
    "\n",
    "\n",
    "\n"
   ]
  },
  {
   "cell_type": "code",
   "execution_count": 118,
   "id": "98448c6a-6b26-4a77-838a-b5eaf91e7e71",
   "metadata": {},
   "outputs": [],
   "source": [
    "# Example usage\n",
    "n = 50  # Number of nodes\n",
    "m = 3   # Number of unique labels\n",
    "G = create_labeled_directed_graph(n, m)"
   ]
  },
  {
   "cell_type": "code",
   "execution_count": 87,
   "id": "302531c1-fc2e-41cd-a93e-29a20af73c47",
   "metadata": {},
   "outputs": [
    {
     "data": {
      "text/plain": [
       "{'label': 3}"
      ]
     },
     "execution_count": 87,
     "metadata": {},
     "output_type": "execute_result"
    }
   ],
   "source": [
    "G.nodes[0]"
   ]
  },
  {
   "cell_type": "code",
   "execution_count": 88,
   "id": "5a8e1bf8-da08-4c72-bdb7-a03dd4600c20",
   "metadata": {},
   "outputs": [
    {
     "data": {
      "text/plain": [
       "[1, 2, 3]"
      ]
     },
     "execution_count": 88,
     "metadata": {},
     "output_type": "execute_result"
    }
   ],
   "source": [
    "list(set([ G.nodes[i]['label'] for i in range(len(G)) if 'label'  in G.nodes[i]]))"
   ]
  },
  {
   "cell_type": "code",
   "execution_count": 48,
   "id": "f25764dc-1fe6-4d61-b20f-0e59b3532fef",
   "metadata": {},
   "outputs": [],
   "source": [
    "# # Print node labels and degrees\n",
    "# for node in graph.nodes(data=True):\n",
    "#     print(f\"Node {node[0]} has label {node[1]['label']}\")\n",
    "# print(\"Graph edges:\", list(graph.edges()))"
   ]
  },
  {
   "cell_type": "code",
   "execution_count": 89,
   "id": "9487c316-21f2-4808-843b-4c24ba1e9429",
   "metadata": {},
   "outputs": [],
   "source": [
    "\n",
    "def create_fake_io_table(graph):\n",
    "    # Extract unique labels (sectors) from the graph and create a label-to-index mapping\n",
    "    sectors = sorted(set(label for _, label in graph.nodes(data=\"label\") if label is not None))\n",
    "    num_sectors = len(sectors)\n",
    "    label_to_index = {label: i for i, label in enumerate(sectors)}\n",
    "    \n",
    "    # Initialize the I/O table as a NumPy array of zeros\n",
    "    io_table = np.zeros((num_sectors, num_sectors), dtype=int)\n",
    "    \n",
    "    # Populate the I/O table based on edges in the graph\n",
    "    for source, target in graph.edges():\n",
    "        source_label = graph.nodes[source].get('label')\n",
    "        target_label = graph.nodes[target].get('label')\n",
    "        \n",
    "        if source_label is not None and target_label is not None:\n",
    "            # Get the indices for the source and target labels\n",
    "            source_idx = label_to_index[source_label]\n",
    "            target_idx = label_to_index[target_label]\n",
    "            \n",
    "            # Assign a random value to represent the flow between these sectors\n",
    "            io_table[source_idx, target_idx] += np.random.randint(1, 10)\n",
    "\n",
    "    return io_table, sectors  # Returning both the table and the sector labels for reference\n",
    "\n",
    "# Example usage\n",
    "# io_table, sectors = create_fake_io_table_np(graph)\n",
    "# print(\"I/O Table:\\n\", io_table)\n",
    "# print(\"Sectors:\", sectors)\n"
   ]
  },
  {
   "cell_type": "code",
   "execution_count": 90,
   "id": "c169b42b-8d59-40a1-8d41-7b8a4387a8f6",
   "metadata": {},
   "outputs": [
    {
     "name": "stdout",
     "output_type": "stream",
     "text": [
      "[[ 59 201 237]\n",
      " [157 256 344]\n",
      " [197 402 498]]\n"
     ]
    }
   ],
   "source": [
    "# Create a fake I/O table from the graph\n",
    "io_table,_= create_fake_io_table(G)\n",
    "\n",
    "# Display the resulting I/O table\n",
    "print(io_table)"
   ]
  },
  {
   "cell_type": "code",
   "execution_count": 91,
   "id": "780edfb3-3c07-4bf7-b8ea-fcdd4fa681db",
   "metadata": {},
   "outputs": [
    {
     "name": "stdout",
     "output_type": "stream",
     "text": [
      "Row-normalized I/O Table:\n",
      " [[0.11871227 0.40442656 0.47686117]\n",
      " [0.20739762 0.33817701 0.45442536]\n",
      " [0.17958067 0.36645397 0.45396536]]\n",
      "\n",
      "Column-normalized I/O Table:\n",
      " [[0.14285714 0.23399302 0.21964782]\n",
      " [0.38014528 0.29802095 0.31881372]\n",
      " [0.47699758 0.46798603 0.46153846]]\n"
     ]
    }
   ],
   "source": [
    "\n",
    "# Assume 'io_table' is the I/O table generated as a NumPy array\n",
    "# Example for testing:\n",
    "# io_table = np.array([[1, 2, 3], [4, 5, 6], [7, 8, 9]])\n",
    "\n",
    "# 1. Row-normalized I/O table\n",
    "row_sums = io_table.sum(axis=1, keepdims=True)  # Sum each row\n",
    "io_row_normalized = io_table / row_sums  # Divide each element by its row sum\n",
    "\n",
    "# 2. Column-normalized I/O table\n",
    "column_sums = io_table.sum(axis=0, keepdims=True)  # Sum each column\n",
    "io_column_normalized = io_table / column_sums  # Divide each element by its column sum\n",
    "\n",
    "# Display the normalized tables\n",
    "print(\"Row-normalized I/O Table:\\n\", io_row_normalized)\n",
    "print(\"\\nColumn-normalized I/O Table:\\n\", io_column_normalized)\n"
   ]
  },
  {
   "cell_type": "code",
   "execution_count": 92,
   "id": "699cabcc-45bf-43b0-bdf9-047643b74974",
   "metadata": {},
   "outputs": [],
   "source": [
    "\n",
    "def remove_labels(graph, k):\n",
    "    # Get a list of all nodes\n",
    "    nodes = list(graph.nodes)\n",
    "    \n",
    "    # Randomly select k nodes to remove labels from\n",
    "    nodes_to_remove_labels = random.sample(nodes, k)\n",
    "    \n",
    "    # Remove labels by setting them to None\n",
    "    for node in nodes_to_remove_labels:\n",
    "        graph.nodes[node]['label'] = None\n",
    "\n",
    "    return graph\n",
    "\n",
    "# Example usage\n",
    "#n = 10  # Number of nodes\n",
    "#m = 5   # Number of unique labels\n",
    "k = 10   # Number of nodes to remove labels from\n",
    "\n",
    "# Create the initial graph\n",
    "#graph = create_labeled_directed_graph(n, m)\n",
    "\n",
    "# Remove labels from k nodes\n",
    "graph = remove_labels(G, k)\n",
    "\n",
    "# Print node labels after removal\n",
    "# for node in graph.nodes(data=True):\n",
    "#     print(f\"Node {node[0]} has label {node[1]['label']}\")\n",
    "# print(\"Graph edges:\", list(graph.edges()))\n"
   ]
  },
  {
   "cell_type": "code",
   "execution_count": 93,
   "id": "bfee47e2-4d85-4a39-b566-0994ca1f11b9",
   "metadata": {},
   "outputs": [],
   "source": [
    "unlabeledNodes = [ i for i in range(len(graph)) if graph.nodes[i]['label'] is None]"
   ]
  },
  {
   "cell_type": "code",
   "execution_count": 94,
   "id": "d94a2438-edb8-4aeb-9be6-b9d4f5a59d46",
   "metadata": {},
   "outputs": [
    {
     "data": {
      "text/plain": [
       "[13, 18, 19, 22, 29, 30, 39, 42, 43, 48]"
      ]
     },
     "execution_count": 94,
     "metadata": {},
     "output_type": "execute_result"
    }
   ],
   "source": [
    "unlabeledNodes"
   ]
  },
  {
   "cell_type": "code",
   "execution_count": 104,
   "id": "bb281d67-1da8-48a5-900a-0939a2746a89",
   "metadata": {},
   "outputs": [
    {
     "data": {
      "text/plain": [
       "[4, 12, 28, 30, 14, 37, 22, 38, 34, 41, 48, 47]"
      ]
     },
     "execution_count": 104,
     "metadata": {},
     "output_type": "execute_result"
    }
   ],
   "source": [
    "list(G.neighbors(13))"
   ]
  },
  {
   "cell_type": "code",
   "execution_count": 154,
   "id": "9d3fce20-4b2e-4928-a18b-0e8e5440a121",
   "metadata": {},
   "outputs": [],
   "source": [
    "dikt = {}\n",
    "for node in unlabeledNodes:\n",
    "    labeledOutNghbrs = [nghbr for nghbr in  list(G.successors(node)) if nghbr not in unlabeledNodes ]\n",
    "    labeledInNghbrs = [nghbr for nghbr in  list(G.predecessors(node)) if nghbr not in unlabeledNodes ]\n",
    "    \n",
    "    dikt[node] =  len(labeledInNghbrs) +  len(labeledOutNghbrs)"
   ]
  },
  {
   "cell_type": "code",
   "execution_count": 158,
   "id": "4c069f25-d24a-4578-aa7b-7ff1eb37b588",
   "metadata": {},
   "outputs": [],
   "source": [
    "sorted_dict= dict(sorted(dikt.items(), key=lambda item: item[1], reverse = True))"
   ]
  },
  {
   "cell_type": "code",
   "execution_count": 159,
   "id": "2cf0069a-e027-408e-a57f-c892b5334821",
   "metadata": {},
   "outputs": [
    {
     "data": {
      "text/plain": [
       "{29: 9, 22: 7, 39: 7, 43: 7, 18: 6, 42: 6, 13: 5, 48: 5, 19: 4, 30: 4}"
      ]
     },
     "execution_count": 159,
     "metadata": {},
     "output_type": "execute_result"
    }
   ],
   "source": [
    "sorted_dict"
   ]
  },
  {
   "cell_type": "code",
   "execution_count": null,
   "id": "85907fb6-70ce-4d3c-817f-d943e90a9746",
   "metadata": {},
   "outputs": [],
   "source": [
    "''' for unlabeled nodes create a probabilty table.\n",
    "for a certain unlabled nodes with labeled neighbours, given a neighbour belongs to certain sector, whats the probability \n",
    "that the unlabeled node belong to each of the possible class. this probability comes from \n",
    "'''"
   ]
  },
  {
   "cell_type": "code",
   "execution_count": 119,
   "id": "36c01e62-3e75-4b2c-8761-5db36b7c143e",
   "metadata": {},
   "outputs": [],
   "source": [
    "sctrs =  list(set([ G.nodes[i]['label'] for i in range(len(G)) if 'label'  in G.nodes[i]]))"
   ]
  },
  {
   "cell_type": "code",
   "execution_count": 120,
   "id": "a400a09b-a32a-44c4-89fd-64ba8579ad31",
   "metadata": {},
   "outputs": [
    {
     "data": {
      "text/plain": [
       "[1, 2, 3]"
      ]
     },
     "execution_count": 120,
     "metadata": {},
     "output_type": "execute_result"
    }
   ],
   "source": [
    "sctrs"
   ]
  },
  {
   "cell_type": "code",
   "execution_count": 144,
   "id": "0841db4d-5f74-4816-90cb-6218b5e6aa5f",
   "metadata": {
    "jupyter": {
     "source_hidden": true
    }
   },
   "outputs": [],
   "source": [
    "p = []\n",
    "for nghbr in labeledOutNghbrs:\n",
    "    j = graph.nodes[nghbr]['label']\n",
    "    p.append([  io_row_normalized[j -1][sctr-1]   for sctr in sctrs])\n",
    "\n",
    "for nghbr in labeledInNghbrs:\n",
    "    j = graph.nodes[nghbr]['label']\n",
    "    p.append([  io_row_normalized[sctr -1][j-1]   for sctr in sctrs])\n",
    "\n",
    "p =  np.array(p)\n",
    "p_sums = p.sum(axis=0, keepdims=True)[0]   \n",
    "Prob = p_sums/len(p)        \n",
    "    \n",
    "    "
   ]
  },
  {
   "cell_type": "code",
   "execution_count": 149,
   "id": "94cbb083-f781-4a11-bb19-484e2d02a1bc",
   "metadata": {},
   "outputs": [],
   "source": [
    "probDict = {}\n",
    "\n",
    "for node in unlabeledNodes:\n",
    "    labeledOutNghbrs = [nghbr for nghbr in  list(G.successors(node)) if nghbr not in unlabeledNodes ]\n",
    "    labeledInNghbrs = [nghbr for nghbr in  list(G.predecessors(node)) if nghbr not in unlabeledNodes ]\n",
    "\n",
    "    p = []\n",
    "    \n",
    "    for nghbr in labeledOutNghbrs:\n",
    "        j = graph.nodes[nghbr]['label']\n",
    "        p.append([  io_row_normalized[j -1][sctr-1]   for sctr in sctrs])\n",
    "    \n",
    "    for nghbr in labeledInNghbrs:\n",
    "        j = graph.nodes[nghbr]['label']\n",
    "        p.append([  io_column_normalized[sctr -1][j-1]   for sctr in sctrs])\n",
    "    \n",
    "    p =  np.array(p)\n",
    "    p_sums = p.sum(axis=0, keepdims=True)[0]   \n",
    "    Prob = p_sums/len(p)  \n",
    "\n",
    "\n",
    "    probDict[node] =   Prob\n",
    "        \n",
    "        \n",
    "    "
   ]
  },
  {
   "cell_type": "code",
   "execution_count": 150,
   "id": "b2bb7840-edc3-4849-bbdf-ffa9abe5eb74",
   "metadata": {},
   "outputs": [
    {
     "data": {
      "text/plain": [
       "{13: array([0.19382622, 0.34448074, 0.46169305]),\n",
       " 18: array([0.20699044, 0.33421731, 0.45879225]),\n",
       " 19: array([0.19432505, 0.34382826, 0.46184669]),\n",
       " 22: array([0.20294998, 0.34072377, 0.45632625]),\n",
       " 29: array([0.19391219, 0.34287085, 0.46321696]),\n",
       " 30: array([0.21321733, 0.32552559, 0.46125708]),\n",
       " 39: array([0.18450984, 0.3527147 , 0.46277545]),\n",
       " 42: array([0.18981868, 0.34872436, 0.46145696]),\n",
       " 43: array([0.18900828, 0.34810433, 0.46288739]),\n",
       " 48: array([0.17112337, 0.35948531, 0.46939131])}"
      ]
     },
     "execution_count": 150,
     "metadata": {},
     "output_type": "execute_result"
    }
   ],
   "source": [
    "probDict"
   ]
  },
  {
   "cell_type": "code",
   "execution_count": 161,
   "id": "21f42f54-a9b6-44d1-8944-172ad1fd1248",
   "metadata": {},
   "outputs": [
    {
     "name": "stdout",
     "output_type": "stream",
     "text": [
      "29\n",
      "22\n",
      "39\n",
      "43\n",
      "18\n",
      "42\n",
      "13\n",
      "48\n",
      "19\n",
      "30\n"
     ]
    }
   ],
   "source": [
    "'''\n",
    "sorted_dict: dict  the unlabeled nodes\n",
    "in ascending order of #labeled \n",
    "neighbours'''\n",
    "\n",
    "for node in sorted_dict:\n",
    "    "
   ]
  },
  {
   "cell_type": "code",
   "execution_count": null,
   "id": "d3af0d73-4a9b-4f8b-834e-28fabe77c9a7",
   "metadata": {},
   "outputs": [],
   "source": []
  }
 ],
 "metadata": {
  "kernelspec": {
   "display_name": "Python 3 (ipykernel)",
   "language": "python",
   "name": "python3"
  },
  "language_info": {
   "codemirror_mode": {
    "name": "ipython",
    "version": 3
   },
   "file_extension": ".py",
   "mimetype": "text/x-python",
   "name": "python",
   "nbconvert_exporter": "python",
   "pygments_lexer": "ipython3",
   "version": "3.10.12"
  }
 },
 "nbformat": 4,
 "nbformat_minor": 5
}
