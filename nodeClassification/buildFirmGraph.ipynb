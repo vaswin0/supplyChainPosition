{
 "cells": [
  {
   "cell_type": "code",
   "execution_count": 1,
   "id": "02f07571-81b9-49a2-9aed-49f749bfe4ed",
   "metadata": {},
   "outputs": [],
   "source": [
    "import pandas as pd\n",
    "import csv\n",
    "import networkx as nx\n",
    "import numpy as np\n",
    "import math\n",
    "from collections import Counter\n",
    "import warnings\n",
    "warnings.filterwarnings('ignore')\n",
    "import json\n",
    "import os"
   ]
  },
  {
   "cell_type": "markdown",
   "id": "69356931-0b47-4cc1-8e08-7fd46300ec63",
   "metadata": {},
   "source": [
    "## build the firm graph"
   ]
  },
  {
   "cell_type": "code",
   "execution_count": 2,
   "id": "a1ea999d-976a-448b-8def-37193c82b19c",
   "metadata": {},
   "outputs": [],
   "source": [
    "'''edgelist of  firms with customer relation'''\n",
    "\n",
    "customerEdges = []\n",
    "customers = []\n",
    "filepath = '/home/aswin/projects/econIIM/granShockAggrVolatility/data/linkages_US.txt'\n",
    "with open(filepath, 'r') as file:\n",
    "    for line in file:\n",
    "        s = line.split()\n",
    "        if s[2] == 'Customer':\n",
    "            customerEdges.append([s[1],s[0]])\n",
    "            customers.append(s[0])\n",
    "            customers.append(s[1])\n",
    "customers =  list(set(customers))"
   ]
  },
  {
   "cell_type": "code",
   "execution_count": 3,
   "id": "0f8a9e6b-a5bf-47e2-b83e-727da468e096",
   "metadata": {},
   "outputs": [],
   "source": [
    "'''create SIC to NAICS conversion dict'''\n",
    "\n",
    "cnvrsnTbl =pd.read_csv('../data/conversionTable.csv',encoding= 'utf-8', delimiter = ',') \n",
    "sic_naics_dict = dict(zip(cnvrsnTbl['SIC'], cnvrsnTbl['NAICS']))\n"
   ]
  },
  {
   "cell_type": "code",
   "execution_count": 4,
   "id": "ac7410e4-5f83-402e-b64a-1cdf0f96b894",
   "metadata": {},
   "outputs": [
    {
     "data": {
      "text/plain": [
       "1006"
      ]
     },
     "execution_count": 4,
     "metadata": {},
     "output_type": "execute_result"
    }
   ],
   "source": [
    "len(sic_naics_dict)"
   ]
  },
  {
   "cell_type": "code",
   "execution_count": 5,
   "id": "9d8f0d72-2d3c-4f57-89b5-264da9b240cf",
   "metadata": {},
   "outputs": [],
   "source": [
    "'''\n",
    "The SIQ dataset containig\n",
    "firms and it's sector information\n",
    "'''\n",
    "\n",
    "\n",
    "IQ = pd.read_csv('../data/description_US1.csv',encoding= 'utf-8', delimiter = ',', keep_default_na=False) #, error_bad_lines=False)#, warn_bad_lines=True,)\n",
    "\n",
    "for i in range(len(IQ)):\n",
    "    if IQ.iloc[i][1][0:2] != 'IQ':\n",
    "        IQ.iloc[i][1] = IQ.iloc[i][2]\n",
    "        IQ.iloc[i][2] = IQ.iloc[i][3]\n",
    "        IQ.iloc[i][3] = IQ.iloc[i][4]\n",
    "        IQ.iloc[i][4] = IQ.iloc[i][5]\n",
    "        IQ.iloc[i][5] = IQ.iloc[i][6]\n",
    "        "
   ]
  },
  {
   "cell_type": "code",
   "execution_count": 6,
   "id": "1663bb2d-418e-45ca-82f8-6a6d33565ae4",
   "metadata": {},
   "outputs": [],
   "source": [
    "#make customer dataframe\n",
    "customeriq = []\n",
    "for i in range(len(customers)):\n",
    "    new = 'IQ' + customers[i]\n",
    "    if new not in customeriq:\n",
    "        customeriq.append(new)\n",
    "\n",
    "\n",
    "IQcustomer = IQ[IQ['ID'].isin(customeriq)]"
   ]
  },
  {
   "cell_type": "code",
   "execution_count": 7,
   "id": "4bfd31b4-c1d0-4aaa-878e-ee29c82713ef",
   "metadata": {},
   "outputs": [],
   "source": [
    "\n",
    "''' create dict of the form:\n",
    "{firm : NAICS code} '''\n",
    "\n",
    "firmNAICS = {}\n",
    "#missingSIC = []\n",
    "#missingSICDescription = {}\n",
    "\n",
    "for i  in range(len(IQcustomer)):\n",
    "    sic = IQcustomer.iloc[i]['SIC']\n",
    "    if sic != '0' and sic != 'nan'and sic in sic_naics_dict:\n",
    "            firmNAICS[IQcustomer.iloc[i]['ID'][2:]] = str(sic_naics_dict[sic])\n",
    "    \n",
    "        \n",
    "\n"
   ]
  },
  {
   "cell_type": "code",
   "execution_count": 8,
   "id": "0467c802-a001-48dd-ba4a-1950c433fe54",
   "metadata": {},
   "outputs": [
    {
     "data": {
      "text/plain": [
       "53293"
      ]
     },
     "execution_count": 8,
     "metadata": {},
     "output_type": "execute_result"
    }
   ],
   "source": [
    "len(firmNAICS)"
   ]
  },
  {
   "cell_type": "code",
   "execution_count": 9,
   "id": "6db6a7fa-5aa2-4a4a-b701-de004ee94f91",
   "metadata": {},
   "outputs": [],
   "source": [
    "#IO table\n",
    "io = pd.read_excel('../data/Use_SUT_Framework_2017_DET.xlsx',sheet_name = \"2017\",)\n",
    "io = io.iloc[:394, :394]\n",
    "io = io.fillna(0) \n",
    "io = io.div(io.sum(axis=0), axis=1) #normalization"
   ]
  },
  {
   "cell_type": "code",
   "execution_count": 10,
   "id": "3fea3530-279f-40b6-a1bc-e4f7908b9a2f",
   "metadata": {},
   "outputs": [],
   "source": [
    "naicsINio = io.columns.tolist()"
   ]
  },
  {
   "cell_type": "markdown",
   "id": "d124aa13-092b-48b1-afde-c95c5bfdd4fa",
   "metadata": {},
   "source": [
    "# ************************** detail <-> naics **************************"
   ]
  },
  {
   "cell_type": "code",
   "execution_count": 11,
   "id": "b47b6b89-939f-4c42-80e1-71e576dcb081",
   "metadata": {},
   "outputs": [],
   "source": [
    "df = pd.read_excel('../data/Use_SUT_Framework_2017_DET.xlsx',sheet_name = \"NAICS Codes\",)\n"
   ]
  },
  {
   "cell_type": "code",
   "execution_count": 12,
   "id": "b1400b09-95d9-49d7-bb14-351235824fe0",
   "metadata": {},
   "outputs": [],
   "source": [
    "df = df.dropna(subset=['detail', 'naics'])"
   ]
  },
  {
   "cell_type": "code",
   "execution_count": 13,
   "id": "27dc264e-ca34-43ce-910b-e159f8347a22",
   "metadata": {},
   "outputs": [],
   "source": [
    "# Function to expand ranges like '11113-6'\n",
    "def expand_naics_range(naics_code):\n",
    "    expanded = []\n",
    "    # Split by commas first\n",
    "    for part in naics_code.split(','):\n",
    "        part = part.strip()  # Remove any extra spaces\n",
    "        if '-' in part:  # Check if there is a range\n",
    "            base, end = part.split('-')\n",
    "            start = int(base)\n",
    "            end = int(base[:-len(str(end))] + end)  # Combine base and suffix to form end of range\n",
    "            expanded.extend(map(str, range(start, end + 1)))\n",
    "        else:\n",
    "            expanded.append(part)\n",
    "    return expanded"
   ]
  },
  {
   "cell_type": "code",
   "execution_count": 14,
   "id": "a41d632f-7bd1-4686-9fc4-afa8b9996a94",
   "metadata": {},
   "outputs": [],
   "source": [
    "detailNAICSdict = {}"
   ]
  },
  {
   "cell_type": "code",
   "execution_count": 15,
   "id": "56343ddd-2d6d-4b6f-9cce-679318cb9fc1",
   "metadata": {},
   "outputs": [],
   "source": [
    "for i in range(len(df)):\n",
    "    if type(df.iloc[i]['naics']) == int:\n",
    "        detailNAICSdict[df.iloc[i]['detail']] = df.iloc[i]['naics']\n",
    "    else:\n",
    "        X = df.iloc[i]['naics'].split(',')\n",
    "        if len(X) == 1:\n",
    "            codes = expand_naics_range(X[0])\n",
    "            #for code in codes:\n",
    "            detailNAICSdict[df.iloc[i]['detail']] = codes\n",
    "        else:\n",
    "            lst = []\n",
    "            for x in X:\n",
    "                if '-' in x:\n",
    "                    Y = expand_naics_range(X[0])\n",
    "                    for y in Y:\n",
    "                        lst.append(y)\n",
    "                else:\n",
    "                    lst.append(x)\n",
    "            detailNAICSdict[df.iloc[i]['detail']] = lst\n",
    "                \n",
    "\n",
    "                \n",
    "            \n",
    "    "
   ]
  },
  {
   "cell_type": "code",
   "execution_count": 16,
   "id": "8a73ff9a-f7de-4628-9bf7-1816f8178b81",
   "metadata": {},
   "outputs": [],
   "source": [
    "\n",
    "# Inverting the dictionary\n",
    "naicsDetailDICT = {}\n",
    "\n",
    "for detail, naics_values in detailNAICSdict.items():\n",
    "    # Ensure values are treated as a list (if single integer, convert to a list)\n",
    "    if not isinstance(naics_values, list):\n",
    "        naics_values = [naics_values]\n",
    "\n",
    "    # Add each value as key in the inverted dictionary, with detail as its value\n",
    "    for value in naics_values:\n",
    "        naicsDetailDICT[str(value)] = str(detail)\n",
    "\n"
   ]
  },
  {
   "cell_type": "markdown",
   "id": "f1e1d7dc-3078-4360-af4d-a92444d579b8",
   "metadata": {},
   "source": [
    "# ****************************************************************"
   ]
  },
  {
   "cell_type": "code",
   "execution_count": 17,
   "id": "fd95796b-20c6-4625-b0a3-a0a7013a8964",
   "metadata": {},
   "outputs": [],
   "source": [
    "'''\n",
    "dicts: firm 2 naics\n",
    "        naics 2 detail(sector)\n",
    "\n",
    "make: naics 2 detail dict\n",
    "\n",
    "'''\n",
    "firmDetail = {}\n",
    "missing = []\n",
    "\n",
    "# Iterate over firmNAICS to create firmDetail\n",
    "for firm, naics in firmNAICS.items():\n",
    "    # Check if the firm's naics is present in naicsDetailDICT\n",
    "    if naics in naicsDetailDICT:\n",
    "        # Assign the detail to the firm\n",
    "        firmDetail[firm] = naicsDetailDICT[naics]\n",
    "    \n",
    "    elif naics[0:5] in naicsDetailDICT:\n",
    "        firmDetail[firm] = naicsDetailDICT[naics[0:5]]\n",
    "    elif naics[0:4] in naicsDetailDICT:\n",
    "        firmDetail[firm] = naicsDetailDICT[naics[0:4]]\n",
    "    elif naics[0:3] in naicsDetailDICT:\n",
    "        firmDetail[firm] = naicsDetailDICT[naics[0:3]]\n",
    "\n",
    "    else:\n",
    "        missing.append(naics)\n",
    "\n"
   ]
  },
  {
   "cell_type": "code",
   "execution_count": 30,
   "id": "fde62978-2a84-480c-a978-4f55fb5b2167",
   "metadata": {},
   "outputs": [],
   "source": [
    "#firmDetail"
   ]
  },
  {
   "cell_type": "code",
   "execution_count": null,
   "id": "775c3bae-2fb2-418b-8a7d-3cac9cc156c1",
   "metadata": {},
   "outputs": [],
   "source": []
  },
  {
   "cell_type": "code",
   "execution_count": 19,
   "id": "ce269361-2606-41ca-add6-714d66db6904",
   "metadata": {},
   "outputs": [],
   "source": [
    "''' function to convert the io table\n",
    "to a weighted edge list'''\n",
    "\n",
    "def io2EdgLst(df):\n",
    "    edge = []\n",
    "    cols  = df.columns\n",
    "    for i in range(0,len(df)):\n",
    "        for j in range(0,len(df)):\n",
    "            \n",
    "            if not math.isnan(list(io.iloc[i])[j]):\n",
    "                edge.append([cols[i],cols[j],list(io.iloc[i])[j]])\n",
    "\n",
    "            \n",
    "    return edge"
   ]
  },
  {
   "cell_type": "code",
   "execution_count": 20,
   "id": "77806d77-47ec-4e04-af6b-90677f4cfefa",
   "metadata": {},
   "outputs": [],
   "source": [
    "sectorEdges =  io2EdgLst(io)"
   ]
  },
  {
   "cell_type": "code",
   "execution_count": null,
   "id": "746558c1-4c7c-4b7e-a8f0-ca3ba1b62d81",
   "metadata": {},
   "outputs": [],
   "source": []
  },
  {
   "cell_type": "code",
   "execution_count": 21,
   "id": "e50b74c9-6771-4655-b438-4e2907859d59",
   "metadata": {},
   "outputs": [],
   "source": [
    "G = nx.DiGraph()\n",
    "G.add_edges_from(customerEdges)"
   ]
  },
  {
   "cell_type": "code",
   "execution_count": 22,
   "id": "48b3e6ed-4afe-4728-9f52-0ad357ab5543",
   "metadata": {},
   "outputs": [],
   "source": [
    "# Assuming G is your directed graph\n",
    "# Get the largest weakly connected component\n",
    "largest_wcc = max(nx.weakly_connected_components(G), key=len)\n",
    "\n",
    "# Create a subgraph from the largest WCC\n",
    "G = G.subgraph(largest_wcc).copy()"
   ]
  },
  {
   "cell_type": "code",
   "execution_count": 23,
   "id": "8d9b823c-990e-475c-b17c-b179d0a6cda7",
   "metadata": {},
   "outputs": [
    {
     "name": "stdout",
     "output_type": "stream",
     "text": [
      "DiGraph with 78020 nodes and 175130 edges\n"
     ]
    }
   ],
   "source": [
    "print(G)"
   ]
  },
  {
   "cell_type": "code",
   "execution_count": 24,
   "id": "728ed5ab-a2b1-4809-9a20-3987d789a1a3",
   "metadata": {},
   "outputs": [],
   "source": [
    "detailCode = list(set(firmDetail.values()))\n",
    "detailSerialMapping = {code:i for i, code in enumerate(detailCode)}\n",
    "firmSerial = {firm: detailSerialMapping[detail] for firm, detail in firmDetail.items()}\n"
   ]
  },
  {
   "cell_type": "code",
   "execution_count": 25,
   "id": "951cac8c-46cc-40f7-911b-fc0b4fcc804c",
   "metadata": {},
   "outputs": [],
   "source": [
    "nx.set_node_attributes(G, firmSerial, 'label')\n"
   ]
  },
  {
   "cell_type": "code",
   "execution_count": 26,
   "id": "f1efaa29-080c-487b-950f-fb5c89b478bf",
   "metadata": {},
   "outputs": [],
   "source": [
    "#G = nx.read_graphml(\"FirmGraphUNweightedSctrLabled.graphml\")\n",
    "node_mapping = {node: int(idx) for idx, node in enumerate(G.nodes())}\n",
    "\n",
    "# Relabel the graph using the mapping\n",
    "G = nx.relabel_nodes(G, node_mapping)"
   ]
  },
  {
   "cell_type": "code",
   "execution_count": 27,
   "id": "cb46125d-2bf8-441e-bdcb-cce9339b29ab",
   "metadata": {},
   "outputs": [
    {
     "name": "stdout",
     "output_type": "stream",
     "text": [
      "The number of nodes in the GCC (WCC) is: 78020\n",
      "The number of edges in the GCC (WCC) is: 175130\n"
     ]
    }
   ],
   "source": [
    "\n",
    "\n",
    "\n",
    "\n",
    "# Print or visualize the GCC\n",
    "print(f\"The number of nodes in the GCC (WCC) is: {len(G.nodes())}\")\n",
    "print(f\"The number of edges in the GCC (WCC) is: {len(G.edges())}\")"
   ]
  },
  {
   "cell_type": "code",
   "execution_count": 28,
   "id": "34fe4c13-6256-4902-8505-c6064ea74145",
   "metadata": {},
   "outputs": [
    {
     "data": {
      "text/plain": [
       "{'label': 39}"
      ]
     },
     "execution_count": 28,
     "metadata": {},
     "output_type": "execute_result"
    }
   ],
   "source": [
    "G.nodes[0]"
   ]
  },
  {
   "cell_type": "code",
   "execution_count": 29,
   "id": "1c3ea52d-09b2-49a1-831d-b9febc54ee48",
   "metadata": {},
   "outputs": [],
   "source": [
    "#nx.write_graphml(G, \"FirmGraphUNweightedSctrLabled.graphml\")"
   ]
  },
  {
   "cell_type": "code",
   "execution_count": 32,
   "id": "d17630ff-c0bc-4c66-a574-913fd37964bd",
   "metadata": {},
   "outputs": [],
   "source": [
    "\n",
    "# Save the dictionary to a text file\n",
    "with open(\"detailSerialMapping.txt\", \"w\") as file:\n",
    "    for key, value in detailSerialMapping.items():\n",
    "        file.write(f\"{key},{value}\\n\")\n"
   ]
  },
  {
   "cell_type": "code",
   "execution_count": 33,
   "id": "e9764345-fecc-4da5-b7ba-22e5e4735c37",
   "metadata": {},
   "outputs": [
    {
     "data": {
      "text/plain": [
       "{'482000': 0,\n",
       " '611100': 1,\n",
       " '334517': 2,\n",
       " '333991': 3,\n",
       " '2123A0': 4,\n",
       " '311514': 5,\n",
       " '523A00': 6,\n",
       " '336310': 7,\n",
       " '333613': 8,\n",
       " '3118A0': 9,\n",
       " '326190': 10,\n",
       " '541940': 11,\n",
       " '332310': 12,\n",
       " '326110': 13,\n",
       " '333912': 14,\n",
       " '335999': 15,\n",
       " '331420': 16,\n",
       " '331510': 17,\n",
       " '522A00': 18,\n",
       " '339115': 19,\n",
       " '324110': 20,\n",
       " '336211': 21,\n",
       " '621900': 22,\n",
       " '336212': 23,\n",
       " '325180': 24,\n",
       " '335312': 25,\n",
       " '541100': 26,\n",
       " '111300': 27,\n",
       " '3219A0': 28,\n",
       " '336360': 29,\n",
       " '333514': 30,\n",
       " '713100': 31,\n",
       " '624A00': 32,\n",
       " '322230': 33,\n",
       " '332800': 34,\n",
       " '326130': 35,\n",
       " '336991': 36,\n",
       " '441000': 37,\n",
       " '334111': 38,\n",
       " '336992': 39,\n",
       " '333920': 40,\n",
       " '337110': 41,\n",
       " '311920': 42,\n",
       " '561700': 43,\n",
       " '333130': 44,\n",
       " '523900': 45,\n",
       " '624400': 46,\n",
       " '621200': 47,\n",
       " '331490': 48,\n",
       " '486000': 49,\n",
       " '332600': 50,\n",
       " '334300': 51,\n",
       " '221100': 52,\n",
       " '561500': 53,\n",
       " '562000': 54,\n",
       " '33131B': 55,\n",
       " '621400': 56,\n",
       " '325510': 57,\n",
       " '336320': 58,\n",
       " '611A00': 59,\n",
       " '452000': 60,\n",
       " '33721A': 61,\n",
       " '621600': 62,\n",
       " '334418': 63,\n",
       " '622000': 64,\n",
       " '312120': 65,\n",
       " '331200': 66,\n",
       " '2122A0': 67,\n",
       " '324190': 68,\n",
       " '541400': 69,\n",
       " '327320': 70,\n",
       " '321100': 71,\n",
       " '326160': 72,\n",
       " '811400': 73,\n",
       " '211000': 74,\n",
       " '561200': 75,\n",
       " '335313': 76,\n",
       " '332996': 77,\n",
       " '812300': 78,\n",
       " '311910': 79,\n",
       " '561600': 80,\n",
       " '334512': 81,\n",
       " '327310': 82,\n",
       " '335120': 83,\n",
       " '31161A': 84,\n",
       " '721000': 85,\n",
       " '541800': 86,\n",
       " '425000': 87,\n",
       " '811200': 88,\n",
       " '312130': 89,\n",
       " '541512': 90,\n",
       " '331110': 91,\n",
       " '311700': 92,\n",
       " '448000': 93,\n",
       " '326290': 94,\n",
       " '711500': 95,\n",
       " '812200': 96,\n",
       " '112A00': 97,\n",
       " '311520': 98,\n",
       " '333611': 99,\n",
       " '333112': 100,\n",
       " '339114': 101,\n",
       " '334112': 102,\n",
       " '325211': 103,\n",
       " '325411': 104,\n",
       " '322130': 105,\n",
       " '541920': 106,\n",
       " '339950': 107,\n",
       " '611B00': 108,\n",
       " '444000': 109,\n",
       " '336999': 110,\n",
       " '525000': 111,\n",
       " '334516': 112,\n",
       " '711A00': 113,\n",
       " '326210': 114,\n",
       " '811300': 115,\n",
       " '621100': 116,\n",
       " '5419A0': 117,\n",
       " '327992': 118,\n",
       " '312140': 119,\n",
       " '337215': 120,\n",
       " '114000': 121,\n",
       " '326220': 122,\n",
       " '447000': 123,\n",
       " '541610': 124,\n",
       " '311210': 125,\n",
       " '312200': 126,\n",
       " '561400': 127,\n",
       " '332430': 128,\n",
       " '311300': 129,\n",
       " '311225': 130,\n",
       " '533000': 131,\n",
       " '713900': 132,\n",
       " '322210': 133,\n",
       " '323110': 134,\n",
       " '541200': 135,\n",
       " '335210': 136,\n",
       " '445000': 137,\n",
       " '311513': 138,\n",
       " '484000': 139,\n",
       " '334514': 140,\n",
       " '314900': 141,\n",
       " '812100': 142,\n",
       " '33712N': 143,\n",
       " '621500': 144,\n",
       " '337121': 145,\n",
       " '332991': 146,\n",
       " '325190': 147,\n",
       " '325320': 148,\n",
       " '335311': 149,\n",
       " '339990': 150,\n",
       " '485000': 151,\n",
       " '111200': 152,\n",
       " '313100': 153,\n",
       " '33399B': 154,\n",
       " '325610': 155,\n",
       " '333314': 156,\n",
       " '337900': 157,\n",
       " '492000': 158,\n",
       " '212100': 159,\n",
       " '112300': 160,\n",
       " '327993': 161,\n",
       " '339113': 162,\n",
       " '339112': 163,\n",
       " '334513': 164,\n",
       " '481000': 165,\n",
       " '311420': 166,\n",
       " '313200': 167,\n",
       " '323120': 168,\n",
       " '33299A': 169,\n",
       " '316000': 170,\n",
       " '325310': 171,\n",
       " '311990': 172,\n",
       " '326120': 173,\n",
       " '711200': 174,\n",
       " '336214': 175,\n",
       " '334220': 176,\n",
       " '493000': 177,\n",
       " '339940': 178,\n",
       " '221200': 179,\n",
       " '511200': 180,\n",
       " '334610': 181,\n",
       " '327991': 182,\n",
       " '213111': 183,\n",
       " '327100': 184,\n",
       " '332320': 185,\n",
       " '517A00': 186,\n",
       " '221300': 187,\n",
       " '333612': 188,\n",
       " '326150': 189,\n",
       " '1111B0': 190,\n",
       " '483000': 191,\n",
       " '336370': 192,\n",
       " '322120': 193,\n",
       " '339930': 194,\n",
       " '332720': 195,\n",
       " '325520': 196,\n",
       " '33351B': 197,\n",
       " '333993': 198,\n",
       " '339920': 199,\n",
       " '335920': 200,\n",
       " '332200': 201,\n",
       " '111900': 202,\n",
       " '621300': 203,\n",
       " '524200': 204,\n",
       " '327330': 205,\n",
       " '324121': 206,\n",
       " '327999': 207,\n",
       " '331520': 208,\n",
       " '541511': 209,\n",
       " '335110': 210,\n",
       " '324122': 211,\n",
       " '33441A': 212,\n",
       " '212310': 213,\n",
       " '335314': 214,\n",
       " '5191A0': 215,\n",
       " '333415': 216,\n",
       " '3252A0': 217,\n",
       " '512100': 218,\n",
       " '312110': 219,\n",
       " '541700': 220,\n",
       " '334290': 221,\n",
       " '4B0000': 222,\n",
       " '52A000': 223,\n",
       " '321200': 224,\n",
       " '333994': 225,\n",
       " '333414': 226,\n",
       " '311940': 227,\n",
       " '48A000': 228,\n",
       " '712000': 229,\n",
       " '336500': 230,\n",
       " '314110': 231,\n",
       " '532A00': 232,\n",
       " '541300': 233,\n",
       " '515100': 234,\n",
       " '811100': 235,\n",
       " '334511': 236,\n",
       " '325620': 237,\n",
       " '512200': 238,\n",
       " '322220': 239,\n",
       " '311111': 240,\n",
       " '311119': 241,\n",
       " '336390': 242,\n",
       " '532100': 243,\n",
       " '454000': 244,\n",
       " '325120': 245,\n",
       " '813A00': 246,\n",
       " '33211A': 247,\n",
       " '722A00': 248,\n",
       " '111400': 249,\n",
       " '812900': 250,\n",
       " '325412': 251,\n",
       " '325414': 252,\n",
       " '561300': 253,\n",
       " '339910': 254,\n",
       " '115000': 255,\n",
       " '561100': 256,\n",
       " '335911': 257,\n",
       " '531ORE': 258,\n",
       " '112120': 259,\n",
       " '325413': 260,\n",
       " '334515': 261,\n",
       " '334413': 262,\n",
       " '332999': 263,\n",
       " '212230': 264,\n",
       " '327400': 265,\n",
       " '518200': 266,\n",
       " '321910': 267,\n",
       " '313300': 268,\n",
       " '532400': 269,\n",
       " '311810': 270,\n",
       " '3259A0': 271,\n",
       " '314120': 272,\n",
       " '335991': 273,\n",
       " '33291A': 274,\n",
       " '336213': 275,\n",
       " '446000': 276,\n",
       " '54151A': 277,\n",
       " '335912': 278,\n",
       " '322299': 279,\n",
       " '325910': 280,\n",
       " '813100': 281,\n",
       " '113000': 282,\n",
       " '1121A0': 283,\n",
       " '335930': 284,\n",
       " '311410': 285,\n",
       " '315000': 286,\n",
       " '322291': 287,\n",
       " '327200': 288}"
      ]
     },
     "execution_count": 33,
     "metadata": {},
     "output_type": "execute_result"
    }
   ],
   "source": [
    "detailSerialMapping"
   ]
  },
  {
   "cell_type": "code",
   "execution_count": null,
   "id": "101f56ce-33c7-4756-b538-a057c80e79e5",
   "metadata": {},
   "outputs": [],
   "source": []
  }
 ],
 "metadata": {
  "kernelspec": {
   "display_name": "Python3.9",
   "language": "python",
   "name": "python3.9"
  },
  "language_info": {
   "codemirror_mode": {
    "name": "ipython",
    "version": 3
   },
   "file_extension": ".py",
   "mimetype": "text/x-python",
   "name": "python",
   "nbconvert_exporter": "python",
   "pygments_lexer": "ipython3",
   "version": "3.9.18"
  }
 },
 "nbformat": 4,
 "nbformat_minor": 5
}
