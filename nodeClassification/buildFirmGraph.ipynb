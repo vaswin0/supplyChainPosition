{
 "cells": [
  {
   "cell_type": "code",
   "execution_count": 1,
   "id": "02f07571-81b9-49a2-9aed-49f749bfe4ed",
   "metadata": {},
   "outputs": [],
   "source": [
    "import pandas as pd\n",
    "import csv\n",
    "import networkx as nx\n",
    "import numpy as np\n",
    "import math\n",
    "from collections import Counter\n",
    "import warnings\n",
    "warnings.filterwarnings('ignore')\n",
    "import json\n",
    "import os"
   ]
  },
  {
   "cell_type": "markdown",
   "id": "69356931-0b47-4cc1-8e08-7fd46300ec63",
   "metadata": {},
   "source": [
    "## build the firm graph"
   ]
  },
  {
   "cell_type": "code",
   "execution_count": 2,
   "id": "a1ea999d-976a-448b-8def-37193c82b19c",
   "metadata": {},
   "outputs": [],
   "source": [
    "'''edgelist of  firms with customer relation'''\n",
    "\n",
    "customerEdges = []\n",
    "customers = []\n",
    "filepath = '/home/aswin/projects/econIIM/granShockAggrVolatility/data/linkages_US.txt'\n",
    "with open(filepath, 'r') as file:\n",
    "    for line in file:\n",
    "        s = line.split()\n",
    "        if s[2] == 'Customer':\n",
    "            customerEdges.append([s[1],s[0]])\n",
    "            customers.append(s[0])\n",
    "            customers.append(s[1])\n",
    "customers =  list(set(customers))"
   ]
  },
  {
   "cell_type": "code",
   "execution_count": 3,
   "id": "0f8a9e6b-a5bf-47e2-b83e-727da468e096",
   "metadata": {},
   "outputs": [],
   "source": [
    "'''create SIC to NAICS conversion dict'''\n",
    "\n",
    "cnvrsnTbl =pd.read_csv('../data/conversionTable.csv',encoding= 'utf-8', delimiter = ',') \n",
    "sic_naics_dict = dict(zip(cnvrsnTbl['SIC'], cnvrsnTbl['NAICS']))\n"
   ]
  },
  {
   "cell_type": "code",
   "execution_count": 4,
   "id": "ac7410e4-5f83-402e-b64a-1cdf0f96b894",
   "metadata": {},
   "outputs": [
    {
     "data": {
      "text/plain": [
       "1006"
      ]
     },
     "execution_count": 4,
     "metadata": {},
     "output_type": "execute_result"
    }
   ],
   "source": [
    "len(sic_naics_dict)"
   ]
  },
  {
   "cell_type": "code",
   "execution_count": 5,
   "id": "9d8f0d72-2d3c-4f57-89b5-264da9b240cf",
   "metadata": {},
   "outputs": [],
   "source": [
    "'''\n",
    "The SIQ dataset containig\n",
    "firms and it's sector information\n",
    "'''\n",
    "\n",
    "\n",
    "IQ = pd.read_csv('../data/description_US1.csv',encoding= 'utf-8', delimiter = ',', keep_default_na=False) #, error_bad_lines=False)#, warn_bad_lines=True,)\n",
    "\n",
    "for i in range(len(IQ)):\n",
    "    if IQ.iloc[i][1][0:2] != 'IQ':\n",
    "        IQ.iloc[i][1] = IQ.iloc[i][2]\n",
    "        IQ.iloc[i][2] = IQ.iloc[i][3]\n",
    "        IQ.iloc[i][3] = IQ.iloc[i][4]\n",
    "        IQ.iloc[i][4] = IQ.iloc[i][5]\n",
    "        IQ.iloc[i][5] = IQ.iloc[i][6]\n",
    "        "
   ]
  },
  {
   "cell_type": "code",
   "execution_count": 6,
   "id": "1663bb2d-418e-45ca-82f8-6a6d33565ae4",
   "metadata": {},
   "outputs": [],
   "source": [
    "#make customer dataframe\n",
    "customeriq = []\n",
    "for i in range(len(customers)):\n",
    "    new = 'IQ' + customers[i]\n",
    "    if new not in customeriq:\n",
    "        customeriq.append(new)\n",
    "\n",
    "\n",
    "IQcustomer = IQ[IQ['ID'].isin(customeriq)]"
   ]
  },
  {
   "cell_type": "code",
   "execution_count": 7,
   "id": "4bfd31b4-c1d0-4aaa-878e-ee29c82713ef",
   "metadata": {},
   "outputs": [],
   "source": [
    "\n",
    "''' create dict of the form:\n",
    "{firm : NAICS code} '''\n",
    "\n",
    "firmNAICS = {}\n",
    "#missingSIC = []\n",
    "#missingSICDescription = {}\n",
    "\n",
    "for i  in range(len(IQcustomer)):\n",
    "    sic = IQcustomer.iloc[i]['SIC']\n",
    "    if sic != '0' and sic != 'nan'and sic in sic_naics_dict:\n",
    "            firmNAICS[IQcustomer.iloc[i]['ID'][2:]] = str(sic_naics_dict[sic])\n",
    "    \n",
    "        \n",
    "\n"
   ]
  },
  {
   "cell_type": "code",
   "execution_count": null,
   "id": "0467c802-a001-48dd-ba4a-1950c433fe54",
   "metadata": {},
   "outputs": [],
   "source": [
    "len(firmNAICS)"
   ]
  },
  {
   "cell_type": "code",
   "execution_count": null,
   "id": "6db6a7fa-5aa2-4a4a-b701-de004ee94f91",
   "metadata": {},
   "outputs": [],
   "source": [
    "#IO table\n",
    "io = pd.read_excel('../data/Use_SUT_Framework_2017_DET.xlsx',sheet_name = \"2017\",)\n",
    "io = io.iloc[:394, :394]\n",
    "io = io.fillna(0) \n",
    "io = io.div(io.sum(axis=0), axis=1) #normalization"
   ]
  },
  {
   "cell_type": "code",
   "execution_count": null,
   "id": "3fea3530-279f-40b6-a1bc-e4f7908b9a2f",
   "metadata": {},
   "outputs": [],
   "source": [
    "naicsINio = io.columns.tolist()"
   ]
  },
  {
   "cell_type": "markdown",
   "id": "d124aa13-092b-48b1-afde-c95c5bfdd4fa",
   "metadata": {},
   "source": [
    "# ************************** detail <-> naics **************************"
   ]
  },
  {
   "cell_type": "code",
   "execution_count": 8,
   "id": "b47b6b89-939f-4c42-80e1-71e576dcb081",
   "metadata": {},
   "outputs": [],
   "source": [
    "df = pd.read_excel('../data/Use_SUT_Framework_2017_DET.xlsx',sheet_name = \"NAICS Codes\",)\n"
   ]
  },
  {
   "cell_type": "code",
   "execution_count": 9,
   "id": "b1400b09-95d9-49d7-bb14-351235824fe0",
   "metadata": {},
   "outputs": [],
   "source": [
    "df = df.dropna(subset=['detail', 'naics'])"
   ]
  },
  {
   "cell_type": "code",
   "execution_count": 10,
   "id": "27dc264e-ca34-43ce-910b-e159f8347a22",
   "metadata": {},
   "outputs": [],
   "source": [
    "# Function to expand ranges like '11113-6'\n",
    "def expand_naics_range(naics_code):\n",
    "    expanded = []\n",
    "    # Split by commas first\n",
    "    for part in naics_code.split(','):\n",
    "        part = part.strip()  # Remove any extra spaces\n",
    "        if '-' in part:  # Check if there is a range\n",
    "            base, end = part.split('-')\n",
    "            start = int(base)\n",
    "            end = int(base[:-len(str(end))] + end)  # Combine base and suffix to form end of range\n",
    "            expanded.extend(map(str, range(start, end + 1)))\n",
    "        else:\n",
    "            expanded.append(part)\n",
    "    return expanded"
   ]
  },
  {
   "cell_type": "code",
   "execution_count": 11,
   "id": "a41d632f-7bd1-4686-9fc4-afa8b9996a94",
   "metadata": {},
   "outputs": [],
   "source": [
    "detailNAICSdict = {}"
   ]
  },
  {
   "cell_type": "code",
   "execution_count": 12,
   "id": "56343ddd-2d6d-4b6f-9cce-679318cb9fc1",
   "metadata": {},
   "outputs": [],
   "source": [
    "for i in range(len(df)):\n",
    "    if type(df.iloc[i]['naics']) == int:\n",
    "        detailNAICSdict[df.iloc[i]['detail']] = df.iloc[i]['naics']\n",
    "    else:\n",
    "        X = df.iloc[i]['naics'].split(',')\n",
    "        if len(X) == 1:\n",
    "            codes = expand_naics_range(X[0])\n",
    "            #for code in codes:\n",
    "            detailNAICSdict[df.iloc[i]['detail']] = codes\n",
    "        else:\n",
    "            lst = []\n",
    "            for x in X:\n",
    "                if '-' in x:\n",
    "                    Y = expand_naics_range(X[0])\n",
    "                    for y in Y:\n",
    "                        lst.append(y)\n",
    "                else:\n",
    "                    lst.append(x)\n",
    "            detailNAICSdict[df.iloc[i]['detail']] = lst\n",
    "                \n",
    "\n",
    "                \n",
    "            \n",
    "    "
   ]
  },
  {
   "cell_type": "code",
   "execution_count": 13,
   "id": "8a73ff9a-f7de-4628-9bf7-1816f8178b81",
   "metadata": {},
   "outputs": [],
   "source": [
    "\n",
    "# Inverting the dictionary\n",
    "naicsDetailDICT = {}\n",
    "\n",
    "for detail, naics_values in detailNAICSdict.items():\n",
    "    # Ensure values are treated as a list (if single integer, convert to a list)\n",
    "    if not isinstance(naics_values, list):\n",
    "        naics_values = [naics_values]\n",
    "\n",
    "    # Add each value as key in the inverted dictionary, with detail as its value\n",
    "    for value in naics_values:\n",
    "        naicsDetailDICT[str(value)] = str(detail)\n",
    "\n"
   ]
  },
  {
   "cell_type": "markdown",
   "id": "f1e1d7dc-3078-4360-af4d-a92444d579b8",
   "metadata": {},
   "source": [
    "# ****************************************************************"
   ]
  },
  {
   "cell_type": "code",
   "execution_count": 14,
   "id": "fd95796b-20c6-4625-b0a3-a0a7013a8964",
   "metadata": {},
   "outputs": [],
   "source": [
    "'''\n",
    "dicts: firm 2 naics\n",
    "        naics 2 detail(sector)\n",
    "\n",
    "make: naics 2 detail dict\n",
    "\n",
    "'''\n",
    "firmDetail = {}\n",
    "missing = []\n",
    "\n",
    "# Iterate over firmNAICS to create firmDetail\n",
    "for firm, naics in firmNAICS.items():\n",
    "    # Check if the firm's naics is present in naicsDetailDICT\n",
    "    if naics in naicsDetailDICT:\n",
    "        # Assign the detail to the firm\n",
    "        firmDetail[firm] = naicsDetailDICT[naics]\n",
    "    \n",
    "    elif naics[0:5] in naicsDetailDICT:\n",
    "        firmDetail[firm] = naicsDetailDICT[naics[0:5]]\n",
    "    elif naics[0:4] in naicsDetailDICT:\n",
    "        firmDetail[firm] = naicsDetailDICT[naics[0:4]]\n",
    "    elif naics[0:3] in naicsDetailDICT:\n",
    "        firmDetail[firm] = naicsDetailDICT[naics[0:3]]\n",
    "\n",
    "    else:\n",
    "        missing.append(naics)\n",
    "\n"
   ]
  },
  {
   "cell_type": "code",
   "execution_count": null,
   "id": "fde62978-2a84-480c-a978-4f55fb5b2167",
   "metadata": {},
   "outputs": [],
   "source": [
    "firmDetail"
   ]
  },
  {
   "cell_type": "code",
   "execution_count": null,
   "id": "775c3bae-2fb2-418b-8a7d-3cac9cc156c1",
   "metadata": {},
   "outputs": [],
   "source": []
  },
  {
   "cell_type": "code",
   "execution_count": null,
   "id": "ce269361-2606-41ca-add6-714d66db6904",
   "metadata": {},
   "outputs": [],
   "source": [
    "''' function to convert the io table\n",
    "to a weighted edge list'''\n",
    "\n",
    "def io2EdgLst(df):\n",
    "    edge = []\n",
    "    cols  = df.columns\n",
    "    for i in range(0,len(df)):\n",
    "        for j in range(0,len(df)):\n",
    "            \n",
    "            if not math.isnan(list(io.iloc[i])[j]):\n",
    "                edge.append([cols[i],cols[j],list(io.iloc[i])[j]])\n",
    "\n",
    "            \n",
    "    return edge"
   ]
  },
  {
   "cell_type": "code",
   "execution_count": null,
   "id": "77806d77-47ec-4e04-af6b-90677f4cfefa",
   "metadata": {},
   "outputs": [],
   "source": [
    "sectorEdges =  io2EdgLst(io)"
   ]
  },
  {
   "cell_type": "code",
   "execution_count": null,
   "id": "746558c1-4c7c-4b7e-a8f0-ca3ba1b62d81",
   "metadata": {},
   "outputs": [],
   "source": []
  },
  {
   "cell_type": "code",
   "execution_count": 43,
   "id": "e50b74c9-6771-4655-b438-4e2907859d59",
   "metadata": {},
   "outputs": [],
   "source": [
    "G = nx.DiGraph()\n",
    "G.add_edges_from(customerEdges)"
   ]
  },
  {
   "cell_type": "code",
   "execution_count": 45,
   "id": "48b3e6ed-4afe-4728-9f52-0ad357ab5543",
   "metadata": {},
   "outputs": [],
   "source": [
    "# Assuming G is your directed graph\n",
    "# Get the largest weakly connected component\n",
    "largest_wcc = max(nx.weakly_connected_components(G), key=len)\n",
    "\n",
    "# Create a subgraph from the largest WCC\n",
    "G = G.subgraph(largest_wcc).copy()"
   ]
  },
  {
   "cell_type": "code",
   "execution_count": 46,
   "id": "8d9b823c-990e-475c-b17c-b179d0a6cda7",
   "metadata": {},
   "outputs": [
    {
     "name": "stdout",
     "output_type": "stream",
     "text": [
      "DiGraph with 78020 nodes and 175130 edges\n"
     ]
    }
   ],
   "source": [
    "print(G)"
   ]
  },
  {
   "cell_type": "code",
   "execution_count": 47,
   "id": "728ed5ab-a2b1-4809-9a20-3987d789a1a3",
   "metadata": {},
   "outputs": [],
   "source": [
    "detailCode = list(set(firmDetail.values()))\n",
    "detailSerialMapping = {code:i for i, code in enumerate(detailCode)}\n",
    "firmSerial = {firm: detailSerialMapping[detail] for firm, detail in firmDetail.items()}\n"
   ]
  },
  {
   "cell_type": "code",
   "execution_count": 48,
   "id": "951cac8c-46cc-40f7-911b-fc0b4fcc804c",
   "metadata": {},
   "outputs": [],
   "source": [
    "nx.set_node_attributes(G, firmSerial, 'label')\n"
   ]
  },
  {
   "cell_type": "code",
   "execution_count": 49,
   "id": "f1efaa29-080c-487b-950f-fb5c89b478bf",
   "metadata": {},
   "outputs": [],
   "source": [
    "#G = nx.read_graphml(\"FirmGraphUNweightedSctrLabled.graphml\")\n",
    "node_mapping = {node: int(idx) for idx, node in enumerate(G.nodes())}\n",
    "\n",
    "# Relabel the graph using the mapping\n",
    "G = nx.relabel_nodes(G, node_mapping)"
   ]
  },
  {
   "cell_type": "code",
   "execution_count": 54,
   "id": "cb46125d-2bf8-441e-bdcb-cce9339b29ab",
   "metadata": {},
   "outputs": [
    {
     "name": "stdout",
     "output_type": "stream",
     "text": [
      "The number of nodes in the GCC (WCC) is: 78020\n",
      "The number of edges in the GCC (WCC) is: 175130\n"
     ]
    }
   ],
   "source": [
    "\n",
    "\n",
    "\n",
    "\n",
    "# Print or visualize the GCC\n",
    "print(f\"The number of nodes in the GCC (WCC) is: {len(G.nodes())}\")\n",
    "print(f\"The number of edges in the GCC (WCC) is: {len(G.edges())}\")"
   ]
  },
  {
   "cell_type": "code",
   "execution_count": 55,
   "id": "34fe4c13-6256-4902-8505-c6064ea74145",
   "metadata": {},
   "outputs": [
    {
     "data": {
      "text/plain": [
       "{'label': 44}"
      ]
     },
     "execution_count": 55,
     "metadata": {},
     "output_type": "execute_result"
    }
   ],
   "source": [
    "G.nodes[0]"
   ]
  },
  {
   "cell_type": "code",
   "execution_count": 56,
   "id": "1c3ea52d-09b2-49a1-831d-b9febc54ee48",
   "metadata": {},
   "outputs": [],
   "source": [
    "nx.write_graphml(G, \"FirmGraphUNweightedSctrLabled.graphml\")"
   ]
  },
  {
   "cell_type": "code",
   "execution_count": null,
   "id": "0d939954-c384-4c40-b4cc-6b27361b910b",
   "metadata": {},
   "outputs": [],
   "source": []
  }
 ],
 "metadata": {
  "kernelspec": {
   "display_name": "Python3.9",
   "language": "python",
   "name": "python3.9"
  },
  "language_info": {
   "codemirror_mode": {
    "name": "ipython",
    "version": 3
   },
   "file_extension": ".py",
   "mimetype": "text/x-python",
   "name": "python",
   "nbconvert_exporter": "python",
   "pygments_lexer": "ipython3",
   "version": "3.9.18"
  }
 },
 "nbformat": 4,
 "nbformat_minor": 5
}
