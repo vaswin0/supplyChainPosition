{
 "cells": [
  {
   "cell_type": "markdown",
   "id": "d984026d-8fb9-4fbd-b475-5933ed9135de",
   "metadata": {},
   "source": [
    "## Graph node classification problem\n",
    "### Given a labeled graph where some nodes' labels are missing, find a probability distribution over possibel labels for each node."
   ]
  },
  {
   "cell_type": "code",
   "execution_count": 4,
   "id": "42216f6d-a82a-4a41-b0b1-e2546f0fba7f",
   "metadata": {},
   "outputs": [],
   "source": [
    "import networkx as nx\n",
    "import random\n",
    "import numpy as np\n",
    "import matplotlib.pyplot as plt"
   ]
  },
  {
   "cell_type": "markdown",
   "id": "dfd3a151-20c8-4b58-a604-8c6bb69503a5",
   "metadata": {},
   "source": [
    "# test with small graph and two labels, {1,0}"
   ]
  },
  {
   "cell_type": "code",
   "execution_count": 5,
   "id": "898c5b1a-0c3a-4fe4-8fce-2e2789a8cbd3",
   "metadata": {},
   "outputs": [],
   "source": [
    "\n",
    "# Create an undirected graph\n",
    "G = nx.Graph()\n",
    "\n",
    "numNodes = 20\n",
    "\n",
    "# Add numNOdes\n",
    "G.add_nodes_from(range(numNodes))\n",
    "\n",
    "# Randomly select k nodes and label them with \"0\" or \"1\"\n",
    "labels = random.sample(range(numNodes), int(numNodes*0.5))\n",
    "node_labels = {node: random.choice([0, 1]) for node in labels}\n",
    "nx.set_node_attributes(G, node_labels, \"label\")\n",
    "\n",
    "# Add random edges between nodes\n",
    "num_edges = random.randint(50, 100)  # Random number of edges between n1 and n2\n",
    "for _ in range(num_edges):\n",
    "    u, v = random.sample(range(numNodes), 2)  # Pick two random distinct nodes\n",
    "    G.add_edge(u, v)\n",
    "\n",
    "\n",
    "\n"
   ]
  },
  {
   "cell_type": "markdown",
   "id": "55bc62e3-7a21-4f7d-9f3f-83e58f3ad3ec",
   "metadata": {},
   "source": [
    "## initialize probability\n",
    "1) For nodes with labels known, P(c) = 1, for label, \"c\"\n",
    "2) For nodes with unknown label, P(c1) = 1/2, P(c2) = 1/2\n"
   ]
  },
  {
   "cell_type": "code",
   "execution_count": 6,
   "id": "d09990f1-e05e-4f58-ba23-3c1d207f9880",
   "metadata": {},
   "outputs": [],
   "source": [
    "'''\n",
    "initilize the probability  dictionary\n",
    "key : node id\n",
    "value: {0:p(0), 1:P(1)}\n",
    "\n",
    "'''\n",
    "\n",
    "\n",
    "prob ={}\n",
    "\n",
    "#initilization\n",
    "for i in range(len(G)):\n",
    "    if 'label' in G.nodes[i]:\n",
    "        if G.nodes[i]['label'] == 0:\n",
    "            p = {0:1,1:0}\n",
    "        else:\n",
    "            p = {0:0,1:1}\n",
    "\n",
    "    else:\n",
    "        p = {0:0.5,1:0.5}\n",
    "\n",
    "\n",
    "    prob[i] = p               "
   ]
  },
  {
   "cell_type": "markdown",
   "id": "222790f9-1933-4313-a836-7af911973159",
   "metadata": {},
   "source": [
    "## Probabilistic Relational Classifier\n",
    "\n",
    "* node v, it's label $Y_v$\n",
    "* class probability of node v is a weighted average of class probabilities of it's neighbours.\n",
    "* For labeled nodes v,initilaize label $Y_v$ with ground truth $Y_v^*$\n",
    "* For unlabeled nodes, initialize $P(Y_v = c) = 0.5$\n",
    "*  **update** all nodes in a random order until convergence or until maximum number of iteraitons reached\n",
    "\n",
    "* **Update** for each node v and label c(0 or 1)\n",
    "$$P(Y_v =c) = \\frac{1}{\\sum_{(v,u) \\in E} A_{v,u}} \\sum_{(v,u) \\in E}A_{v,u} P(Y_u = c)  $$\n",
    "\n",
    "$P(Y_v =c)$ is the probability of node v having label c."
   ]
  },
  {
   "cell_type": "code",
   "execution_count": 7,
   "id": "2614f5a5-a43e-4b56-826c-caec3d6f1c89",
   "metadata": {},
   "outputs": [],
   "source": [
    "def updateProb(adjMatrix,Prob,unlabeledNodes):\n",
    "    A = adjMatrix\n",
    "    for i in unlabeledNodes:\n",
    "        K = np.sum(adjMatrix[i])\n",
    "        summ0 = 0 \n",
    "        summ1 = 0\n",
    "        for j in range(len(adjMatrix)):\n",
    "            summ0 += A[i,j]*Prob[j][0]\n",
    "            summ1 += A[i,j]*Prob[j][1]\n",
    "        p0 =  summ0/K\n",
    "        p1 = summ1/K\n",
    "\n",
    "        Prob[i][0] = p0\n",
    "        Prob[i][1] = p1\n",
    "\n",
    "    return Prob      "
   ]
  },
  {
   "cell_type": "code",
   "execution_count": 8,
   "id": "e95dda30-46b0-4309-a281-ae42fcaff4c4",
   "metadata": {},
   "outputs": [],
   "source": [
    "unlabeledNodes = [ i for i in range(len(G)) if 'label' not in G.nodes[i]]\n",
    "adjMatrix = nx.adjacency_matrix(G).toarray() \n",
    "for _ in range(50):\n",
    "    prob = updateProb(adjMatrix, prob, unlabeledNodes)"
   ]
  },
  {
   "cell_type": "code",
   "execution_count": 9,
   "id": "6788c05e-b608-4b4b-bf41-1a354787c434",
   "metadata": {},
   "outputs": [
    {
     "data": {
      "text/plain": [
       "{0: {0: 1, 1: 0},\n",
       " 1: {0: 0.1725791091364403, 1: 0.8274208908635597},\n",
       " 2: {0: 0.20805376395508204, 1: 0.7919462360449181},\n",
       " 3: {0: 0.26509986751364245, 1: 0.7349001324863575},\n",
       " 4: {0: 0, 1: 1},\n",
       " 5: {0: 0.19354694148642315, 1: 0.8064530585135768},\n",
       " 6: {0: 0, 1: 1},\n",
       " 7: {0: 0, 1: 1},\n",
       " 8: {0: 1, 1: 0},\n",
       " 9: {0: 0.3187228270588957, 1: 0.6812771729411042},\n",
       " 10: {0: 0.1540240770848069, 1: 0.845975922915193},\n",
       " 11: {0: 0, 1: 1},\n",
       " 12: {0: 0.2721341512920217, 1: 0.7278658487079784},\n",
       " 13: {0: 0.22852136404196577, 1: 0.7714786359580342},\n",
       " 14: {0: 0, 1: 1},\n",
       " 15: {0: 1, 1: 0},\n",
       " 16: {0: 0.23429345119815098, 1: 0.7657065488018491},\n",
       " 17: {0: 0, 1: 1},\n",
       " 18: {0: 0.10602831673815219, 1: 0.8939716832618477},\n",
       " 19: {0: 0, 1: 1}}"
      ]
     },
     "execution_count": 9,
     "metadata": {},
     "output_type": "execute_result"
    }
   ],
   "source": [
    "prob"
   ]
  },
  {
   "cell_type": "code",
   "execution_count": null,
   "id": "1f9453b1-b0b6-416e-9a32-d454beb330c4",
   "metadata": {},
   "outputs": [],
   "source": []
  },
  {
   "cell_type": "code",
   "execution_count": 10,
   "id": "970481a9-8a61-4202-a279-1160547358a6",
   "metadata": {},
   "outputs": [],
   "source": [
    "def assignLabel(unlabeledNodes,prob,G):\n",
    "    for node in unlabeledNodes:\n",
    "        if prob[node][0] > prob[node][1]:\n",
    "            G.nodes[node]['label'] = 0\n",
    "        else:\n",
    "            G.nodes[node]['label'] = 1\n",
    "\n",
    "    return G\n",
    "            \n",
    "        "
   ]
  },
  {
   "cell_type": "code",
   "execution_count": 11,
   "id": "a49434e7-f693-4be0-839b-dd178916f31c",
   "metadata": {},
   "outputs": [],
   "source": [
    "G = assignLabel(unlabeledNodes, prob, G)"
   ]
  },
  {
   "cell_type": "code",
   "execution_count": 12,
   "id": "feff9238-b7d0-4d5a-8d21-d6d32d1769fa",
   "metadata": {},
   "outputs": [
    {
     "data": {
      "image/png": "[encoded data removed]",
      "text/plain": [
       "<Figure size 640x480 with 1 Axes>"
      ]
     },
     "metadata": {},
     "output_type": "display_data"
    }
   ],
   "source": [
    "\n",
    "\n",
    "# Get the positions for the nodes in the graph\n",
    "pos = nx.spring_layout(G)  # You can choose other layouts like `circular_layout`, `shell_layout`, etc.\n",
    "\n",
    "# Draw the graph without node IDs\n",
    "nx.draw(G, pos, with_labels=False, node_color='lightblue', node_size=2000, font_size=10)\n",
    "\n",
    "# Extract the node labels (assumed to be stored as an attribute 'label')\n",
    "labels = nx.get_node_attributes(G, 'label')\n",
    "\n",
    "# Draw the custom labels on the nodes\n",
    "nx.draw_networkx_labels(G, pos, labels=labels, font_color='black', font_size=12)\n",
    "\n",
    "# Display the graph\n",
    "plt.show()\n"
   ]
  },
  {
   "cell_type": "markdown",
   "id": "a89b9c4c-4e13-46b4-b9a2-f91c326bef79",
   "metadata": {},
   "source": [
    "# **************************************************"
   ]
  },
  {
   "cell_type": "markdown",
   "id": "e4e0a8c6-e686-4a19-9661-6c78c366a38f",
   "metadata": {},
   "source": [
    "# Node classification for firm network"
   ]
  },
  {
   "cell_type": "code",
   "execution_count": 13,
   "id": "fa96f3b9-b950-4b49-b95e-17c6152b0861",
   "metadata": {},
   "outputs": [],
   "source": [
    "#load preprocessed GCC\n",
    "\n",
    "G = nx.read_graphml(\"FirmGraphUNweightedSctrLabled.graphml\")"
   ]
  },
  {
   "cell_type": "code",
   "execution_count": 15,
   "id": "0010d733-29b1-477f-8b9d-c505aa1bf4e9",
   "metadata": {},
   "outputs": [
    {
     "name": "stdout",
     "output_type": "stream",
     "text": [
      "DiGraph with 78020 nodes and 175130 edges\n"
     ]
    }
   ],
   "source": [
    "print(G)"
   ]
  },
  {
   "cell_type": "code",
   "execution_count": 14,
   "id": "a0774c9e-1bb3-44ca-951b-6e9f201d8ce5",
   "metadata": {},
   "outputs": [],
   "source": [
    "#list of unlabeled nodes\n",
    "#unlabeledNodes = [ str(i) for i in range(len(G)) if 'label' not in G.nodes[str(i)]]"
   ]
  },
  {
   "cell_type": "code",
   "execution_count": 16,
   "id": "a6a01a76-5be9-4323-a13e-7b3c57f39ac2",
   "metadata": {},
   "outputs": [],
   "source": [
    "# list of unique labels  \n",
    "labels = list(set([ G.nodes[str(i)]['label'] for i in range(len(G)) if 'label'  in G.nodes[str(i)]]))"
   ]
  },
  {
   "cell_type": "code",
   "execution_count": 25,
   "id": "795e7f24-fe1b-443f-bffa-b057a351a30c",
   "metadata": {},
   "outputs": [],
   "source": [
    "'''\n",
    "- initialize the probability data structure : lists of list\n",
    "- each node has a list \n",
    "- the list corresponding to a node contains,probability of that node having a certain label\n",
    "- eg: p[5][13] : probability of node 5 having label 13\n",
    "\n",
    "'''\n",
    "\n",
    "\n",
    "prob = []\n",
    "N = len(labels)\n",
    "for i in range(len(G)):\n",
    "    p = [ 0 for label in labels]\n",
    "    if 'label' in G.nodes[str(i)]:\n",
    "        p[G.nodes[str(i)]['label']] = 1\n",
    "    else:\n",
    "        p = [1/N for label in labels]\n",
    "\n",
    "    prob.append(p)"
   ]
  },
  {
   "cell_type": "code",
   "execution_count": 26,
   "id": "3ff4b2c4-d0e2-4d90-adcf-3a79b57110fa",
   "metadata": {},
   "outputs": [],
   "source": [
    "unlabeledNodes = [ i for i in range(len(G)) if 'label' not in G.nodes[str(i)]]\n",
    "adjMatrix = nx.adjacency_matrix(G) #sparse adjacency matrix"
   ]
  },
  {
   "cell_type": "code",
   "execution_count": 40,
   "id": "1b7f3396-8790-449a-93cf-25e36f354884",
   "metadata": {},
   "outputs": [
    {
     "data": {
      "text/plain": [
       "38630"
      ]
     },
     "execution_count": 40,
     "metadata": {},
     "output_type": "execute_result"
    }
   ],
   "source": [
    "len(unlabeledNodes)"
   ]
  },
  {
   "cell_type": "code",
   "execution_count": 27,
   "id": "cd2cbde6-f11f-4102-a77a-d857fd42e9f0",
   "metadata": {},
   "outputs": [],
   "source": [
    "def updateProb(G,Prob,unlabeledNodes):\n",
    "    A = adjMatrix\n",
    "    for i in unlabeledNodes:\n",
    "        nghbrs = list(G.neighbors(str(i)))\n",
    "        N = len(nghbrs)\n",
    "        #print(i)\n",
    "        if N != 0:\n",
    "            for k in range(0,289):\n",
    "                summ = 0\n",
    "                for j in nghbrs:\n",
    "                    \n",
    "                    summ += Prob[int(j)][k]\n",
    "                if N == 0 :\n",
    "                    print('i:',i,'N:',N)\n",
    "                Prob[i][k] = summ/ N\n",
    "\n",
    "\n",
    "            \n",
    "    return Prob    "
   ]
  },
  {
   "cell_type": "code",
   "execution_count": 28,
   "id": "7eff8b9c-c0e1-45ac-88a5-9cfb091cfea2",
   "metadata": {},
   "outputs": [],
   "source": [
    "for _ in range(5):\n",
    "    prob = updateProb(G, prob, unlabeledNodes)\n"
   ]
  },
  {
   "cell_type": "code",
   "execution_count": null,
   "id": "7d7020db-c59e-4fc7-8218-523fd90fd7fb",
   "metadata": {},
   "outputs": [],
   "source": [
    "def assignLabel(unlabeledNodes,prob,G):\n",
    "    for node in unlabeledNodes:\n",
    "        indx =  np.argmax(prob[node])\n",
    "        \n",
    "        \n",
    "        \n",
    "       \n",
    "\n",
    "    return G\n",
    "            \n",
    "        "
   ]
  },
  {
   "cell_type": "code",
   "execution_count": null,
   "id": "592cf356-f6d5-4222-9d8c-6ce069e5fb1f",
   "metadata": {},
   "outputs": [],
   "source": []
  }
 ],
 "metadata": {
  "kernelspec": {
   "display_name": "Python 3 (ipykernel)",
   "language": "python",
   "name": "python3"
  },
  "language_info": {
   "codemirror_mode": {
    "name": "ipython",
    "version": 3
   },
   "file_extension": ".py",
   "mimetype": "text/x-python",
   "name": "python",
   "nbconvert_exporter": "python",
   "pygments_lexer": "ipython3",
   "version": "3.10.12"
  }
 },
 "nbformat": 4,
 "nbformat_minor": 5
}
